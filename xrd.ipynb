{
 "cells": [
  {
   "cell_type": "markdown",
   "metadata": {
    "ExecuteTime": {
     "end_time": "2021-03-07T15:55:12.957402Z",
     "start_time": "2021-03-07T15:55:12.952751Z"
    }
   },
   "source": [
    "#  Analyse du diffractogramme du matériau RbLaS<sub>2</sub>\n",
    "Il s'agit de déterminer les 3 premiers pics du diffractogramme pour un rayonnement X incident CuK$\\alpha$ de longueur d’onde $\\lambda=1.54060$ Å."
   ]
  },
  {
   "cell_type": "code",
   "execution_count": 1,
   "metadata": {
    "ExecuteTime": {
     "end_time": "2021-03-07T16:59:06.982625Z",
     "start_time": "2021-03-07T16:59:05.776971Z"
    }
   },
   "outputs": [],
   "source": [
    "import pymatgen as mtg\n",
    "import matplotlib as mpl\n",
    "import matplotlib.pyplot as plt\n",
    "\n",
    "from pymatgen.ext.matproj import MPRester\n",
    "from pymatgen.io.cif import CifWriter, CifParser\n",
    "from pymatgen.symmetry.analyzer import SpacegroupAnalyzer\n",
    "from pymatgen.analysis.diffraction.xrd import XRDCalculator\n",
    "from IPython.display import display, Image\n",
    "\n",
    "mpl.rcParams['axes.titlesize'] = 24\n",
    "mpl.rcParams['axes.labelsize'] = 18\n",
    "mpl.rcParams['xtick.labelsize'] = 18\n",
    "mpl.rcParams['ytick.labelsize'] = 18\n",
    "\n",
    "material = 'mp-9361'\n",
    "mprest = MPRester('M7AL9FnT6RhfdTz4')\n",
    "lam = 1.54060 #[Å]"
   ]
  },
  {
   "cell_type": "markdown",
   "metadata": {},
   "source": [
    "### Import de la structure et téléchargement du .CIF"
   ]
  },
  {
   "cell_type": "code",
   "execution_count": 2,
   "metadata": {
    "ExecuteTime": {
     "end_time": "2021-03-07T16:59:14.221065Z",
     "start_time": "2021-03-07T16:59:13.613376Z"
    }
   },
   "outputs": [],
   "source": [
    "struct = mprest.get_structure_by_material_id(material)   #structure from mp_id\n",
    "struct = SpacegroupAnalyzer(struct).get_conventional_standard_structure()\n",
    "cif = CifWriter(struct, symprec=0.1)\n",
    "\n",
    "#print(cif)\n",
    "#print(structure)"
   ]
  },
  {
   "cell_type": "markdown",
   "metadata": {},
   "source": [
    "### Diffractogramme du RbLaS<sub>2</sub>\n",
    "\n",
    "Lorsque l'on bombarde cristal avec des rayons X, on observe des interférences constructives et destructives entre leurs réflexions sur les plans crystallins successifs $d_{hkl}$. On obtient les directions des interférences constructives (représentées par des pics d'intensité sur le diffractogramme) par la loi de Bragg: $$n\\lambda = 2d_{hkl}\\sin\\theta$$\n",
    "avec\n",
    "\\begin{align*}\n",
    "    n       & \\mbox{ l'ordre de la réflexion}\\\\\n",
    "    \\lambda & \\mbox{ la longueur d'onde en [Å] du rayonnement}\\\\\n",
    "    d_{hkl} & \\mbox{ la distance entre deux plans (h k l) consécutifs du réseau direct}\\\\\n",
    "    \\theta  & \\mbox{ tel que } 2\\theta \\mbox{ est l'angle entre les directions d’incidence et d’observation}\\\\\n",
    "\\end{align*}\n",
    "\n",
    "L'intensité des pics de diffraction sur matériau étudié sont représentés sur le graphe suivant en pourcentage d'intensité du pic maximal, en fonction de l'angle $2\\theta$."
   ]
  },
  {
   "cell_type": "code",
   "execution_count": 3,
   "metadata": {
    "scrolled": true
   },
   "outputs": [
    {
     "data": {
      "image/png": "[encoded data removed]",
      "text/plain": [
       "<Figure size 1080x288 with 1 Axes>"
      ]
     },
     "metadata": {
      "needs_background": "light"
     },
     "output_type": "display_data"
    }
   ],
   "source": [
    "xrd = XRDCalculator(lam, symprec=0.1)\n",
    "fig, axs = plt.subplots(figsize=(15, 4), constrained_layout=True)\n",
    "xrd.get_plot(struct,annotate_peaks=False, ax=axs, with_labels=True,fontsize=12)\n",
    "axs.set_title('$\\mathregular{RbLaS_2}$ diffraction pattern')\n",
    "plt.show()\n"
   ]
  },
  {
   "cell_type": "markdown",
   "metadata": {},
   "source": [
    "### Premiers pics du diffractogramme\n",
    "Grâce à la librairie pymatgen.analysis.diffraction.xrd, on peut facilement obtenir les angles $2\\theta$, les indices de Miller associés, la distance interplanaire ainsi que l'intensité relative des différents pics par rapport au plus élevé."
   ]
  },
  {
   "cell_type": "code",
   "execution_count": 4,
   "metadata": {},
   "outputs": [
    {
     "name": "stdout",
     "output_type": "stream",
     "text": [
      "Pic n°1:\n",
      "Angle 2𝜃: \t\t11.51 [°]\n",
      "Intensité relative:\t18.01 [%]\n",
      "Indices de Miller:\t(0, 0, 0, 3)\n",
      "Distance interplanaire: 7.68 [Å]\n",
      "--------------------------------------------------------\n",
      "Pic n°2:\n",
      "Angle 2𝜃: \t\t23.14 [°]\n",
      "Intensité relative:\t19.27 [%]\n",
      "Indices de Miller:\t(0, 0, 0, 6)\n",
      "Distance interplanaire: 3.84 [Å]\n",
      "--------------------------------------------------------\n",
      "Pic n°3:\n",
      "Angle 2𝜃: \t\t24.04 [°]\n",
      "Intensité relative:\t3.25 [%]\n",
      "Indices de Miller:\t(1, 0, -1, 1)\n",
      "Distance interplanaire: 3.70 [Å]\n",
      "--------------------------------------------------------\n"
     ]
    }
   ],
   "source": [
    "pattern = xrd.get_pattern(struct,scaled=True, two_theta_range=None)\n",
    "for i in range(3):\n",
    "    print(\"Pic n°%d:\" %(i+1))\n",
    "    print(\"Angle 2𝜃: \\t\\t%.2f [°]\"  %pattern.x[i])\n",
    "    print(\"Intensité relative:\\t%.2f [%%]\"  %pattern.y[i])\n",
    "    print(\"Indices de Miller:\\t%s\"  %(pattern.hkls[i][0][\"hkl\"],))\n",
    "    print(\"Distance interplanaire: %.2f [Å]\"  %pattern.d_hkls[i])\n",
    "    print(\"--------------------------------------------------------\")"
   ]
  }
 ],
 "metadata": {
  "kernelspec": {
   "display_name": "Python 3",
   "language": "python",
   "name": "python3"
  },
  "language_info": {
   "codemirror_mode": {
    "name": "ipython",
    "version": 3
   },
   "file_extension": ".py",
   "mimetype": "text/x-python",
   "name": "python",
   "nbconvert_exporter": "python",
   "pygments_lexer": "ipython3",
   "version": "3.6.8"
  }
 },
 "nbformat": 4,
 "nbformat_minor": 4
}
