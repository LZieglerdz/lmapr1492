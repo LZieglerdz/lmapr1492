{
 "cells": [
  {
   "cell_type": "code",
   "execution_count": 37,
   "metadata": {},
   "outputs": [],
   "source": [
    "import pymatgen as mtg\n",
    "import numpy as np\n",
    "from pymatgen.ext.matproj import MPRester\n",
    "from pymatgen.io.cif import CifWriter, CifParser\n",
    "\n",
    "USER_API_KEY = 'M7AL9FnT6RhfdTz4'\n",
    "material = 'mp-9361'\n",
    "mprest = MPRester(USER_API_KEY)"
   ]
  },
  {
   "cell_type": "code",
   "execution_count": 38,
   "metadata": {
    "scrolled": false
   },
   "outputs": [
    {
     "name": "stdout",
     "output_type": "stream",
     "text": [
      "Full Formula (Rb1 La1 S2)\n",
      "Reduced Formula: RbLaS2\n",
      "abc   :   8.077087   8.077087   8.077086\n",
      "angles:  31.068529  31.068529  31.068530\n",
      "Sites (4)\n",
      "  #  SP           a         b         c    magmom\n",
      "---  ----  --------  --------  --------  --------\n",
      "  0  Rb    0         0         0               -0\n",
      "  1  La    0.5       0.5       0.5              0\n",
      "  2  S     0.767527  0.767527  0.767527         0\n",
      "  3  S     0.232473  0.232473  0.232473         0\n"
     ]
    }
   ],
   "source": [
    "structure = mprest.get_structure_by_material_id(material)   #structure from mp_id\n",
    "print(structure)\n",
    "cif = CifWriter(structure, symprec=0.1)"
   ]
  },
  {
   "cell_type": "code",
   "execution_count": 39,
   "metadata": {},
   "outputs": [
    {
     "name": "stdout",
     "output_type": "stream",
     "text": [
      "Vecteurs de base du réseau direct:\n",
      "a:\t8.077 [Å] \t alpha:\t31.069°\n",
      "b:\t8.077 [Å] \t beta:\t31.069°\n",
      "c:\t8.077 [Å] \t gamma:\t31.069°\n",
      "\n",
      "\n",
      "Vecteurs de base du réseau réciproque:\n",
      "a:\t1.699 [Å] \t alpha:\t117.475°\n",
      "b:\t1.699 [Å] \t beta:\t117.475°\n",
      "c:\t1.699 [Å] \t gamma:\t117.475°\n"
     ]
    }
   ],
   "source": [
    "lattice = structure.lattice\n",
    "#print(lattice)\n",
    "\n",
    "abc = lattice.abc\n",
    "angles = lattice.angles\n",
    "#print(abc,angles)\n",
    "\n",
    "#print('------------------')\n",
    "lattice_star = lattice.reciprocal_lattice#_crystallographic\n",
    "#print(lattice_star)\n",
    "\n",
    "abc_star = lattice_star.abc\n",
    "angles_star = lattice_star.angles\n",
    "#print(abc_star,angles_star)\n",
    "\n",
    "print('Vecteurs de base du réseau direct:')\n",
    "print('a:\\t%.3f [Å] \\t alpha:\\t%.3f°' %(abc[0], angles[0]))\n",
    "print('b:\\t%.3f [Å] \\t beta:\\t%.3f°'  %(abc[1], angles[1]))\n",
    "print('c:\\t%.3f [Å] \\t gamma:\\t%.3f°' %(abc[2], angles[2]))\n",
    "print('\\n')\n",
    "print('Vecteurs de base du réseau réciproque:')\n",
    "print('a:\\t%.3f [Å] \\t alpha:\\t%.3f°' %(abc_star[0], angles_star[0]))\n",
    "print('b:\\t%.3f [Å] \\t beta:\\t%.3f°'  %(abc_star[1], angles_star[1]))\n",
    "print('c:\\t%.3f [Å] \\t gamma:\\t%.3f°' %(abc_star[2], angles_star[2]))\n"
   ]
  },
  {
   "cell_type": "code",
   "execution_count": 40,
   "metadata": {},
   "outputs": [
    {
     "name": "stdout",
     "output_type": "stream",
     "text": [
      "Type de maille: rhombohedral\n",
      "Système cristallin: trigonal\n",
      "Groupe ponctuel: -3m\n"
     ]
    }
   ],
   "source": [
    "sga = mtg.symmetry.analyzer.SpacegroupAnalyzer(structure, 0.1)\n",
    "lattice_type = sga.get_lattice_type()\n",
    "cryst_sys = sga.get_crystal_system()\n",
    "point_group = sga.get_point_group_symbol()\n",
    "\n",
    "\n",
    "print('Type de maille: %s' %lattice_type)\n",
    "print('Système cristallin: %s' %cryst_sys)\n",
    "print('Groupe ponctuel: %s' %point_group)\n"
   ]
  }
 ],
 "metadata": {
  "kernelspec": {
   "display_name": "Python 3",
   "language": "python",
   "name": "python3"
  },
  "language_info": {
   "codemirror_mode": {
    "name": "ipython",
    "version": 3
   },
   "file_extension": ".py",
   "mimetype": "text/x-python",
   "name": "python",
   "nbconvert_exporter": "python",
   "pygments_lexer": "ipython3",
   "version": "3.9.1"
  }
 },
 "nbformat": 4,
 "nbformat_minor": 4
}
