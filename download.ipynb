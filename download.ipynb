{
 "cells": [
  {
   "cell_type": "code",
   "execution_count": 1,
   "metadata": {},
   "outputs": [],
   "source": [
    "import pymatgen as mtg\n",
    "import numpy as np\n",
    "from pymatgen.ext.matproj import MPRester\n",
    "from pymatgen.io.cif import CifWriter, CifParser\n",
    "\n",
    "USER_API_KEY = 'M7AL9FnT6RhfdTz4'\n",
    "material = 'mp-9361'\n",
    "mprest = MPRester(USER_API_KEY)"
   ]
  },
  {
   "cell_type": "code",
   "execution_count": 3,
   "metadata": {},
   "outputs": [
    {
     "name": "stdout",
     "output_type": "stream",
     "text": [
      "Full Formula (Rb1 La1 S2)\n",
      "Reduced Formula: RbLaS2\n",
      "abc   :   8.077087   8.077087   8.077086\n",
      "angles:  31.068529  31.068529  31.068530\n",
      "Sites (4)\n",
      "  #  SP           a         b         c    magmom\n",
      "---  ----  --------  --------  --------  --------\n",
      "  0  Rb    0         0         0               -0\n",
      "  1  La    0.5       0.5       0.5              0\n",
      "  2  S     0.767527  0.767527  0.767527         0\n",
      "  3  S     0.232473  0.232473  0.232473         0\n"
     ]
    }
   ],
   "source": [
    "structure = mprest.get_structure_by_material_id(material)   #structure from mp_id\n",
    "print(structure)\n",
    "cif = CifWriter(structure, symprec=0.1)\n",
    "cif.write_file(material+'.cif')"
   ]
  }
 ],
 "metadata": {
  "kernelspec": {
   "display_name": "Python 3",
   "language": "python",
   "name": "python3"
  },
  "language_info": {
   "codemirror_mode": {
    "name": "ipython",
    "version": 3
   },
   "file_extension": ".py",
   "mimetype": "text/x-python",
   "name": "python",
   "nbconvert_exporter": "python",
   "pygments_lexer": "ipython3",
   "version": "3.9.1"
  }
 },
 "nbformat": 4,
 "nbformat_minor": 4
}
