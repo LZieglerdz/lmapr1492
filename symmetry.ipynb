{
 "cells": [
  {
   "cell_type": "markdown",
   "metadata": {
    "ExecuteTime": {
     "end_time": "2021-03-07T15:55:12.957402Z",
     "start_time": "2021-03-07T15:55:12.952751Z"
    }
   },
   "source": [
    "#  Analyse de la symétrie du matériau RbLaS<sub>2</sub>\n",
    "Etude de l’effet de 3 éléments de symétrie différents, chacun pour 1 atome différent."
   ]
  },
  {
   "cell_type": "code",
   "execution_count": 1,
   "metadata": {
    "ExecuteTime": {
     "end_time": "2021-03-07T16:59:06.982625Z",
     "start_time": "2021-03-07T16:59:05.776971Z"
    }
   },
   "outputs": [],
   "source": [
    "import pymatgen as mtg\n",
    "\n",
    "from pymatgen.ext.matproj import MPRester\n",
    "from pymatgen.io.cif import CifWriter, CifParser\n",
    "from pymatgen.symmetry.analyzer import SpacegroupAnalyzer\n",
    "from jupyter_jsmol.pymatgen import quick_view\n",
    "from ipywidgets import Layout, widgets, interact\n",
    "from IPython.display import display\n",
    "\n",
    "material = 'mp-9361'\n",
    "mprest = MPRester('M7AL9FnT6RhfdTz4')"
   ]
  },
  {
   "cell_type": "markdown",
   "metadata": {},
   "source": [
    "### Import de la structure et téléchargement du .CIF"
   ]
  },
  {
   "cell_type": "code",
   "execution_count": 2,
   "metadata": {
    "ExecuteTime": {
     "end_time": "2021-03-07T16:59:14.221065Z",
     "start_time": "2021-03-07T16:59:13.613376Z"
    }
   },
   "outputs": [],
   "source": [
    "structure = mprest.get_structure_by_material_id(material)   #structure from mp_id\n",
    "structure = SpacegroupAnalyzer(structure).get_conventional_standard_structure()\n",
    "cif = CifWriter(structure, symprec=0.1)\n",
    "sym = SpacegroupAnalyzer(structure).get_symmetry_operations()\n",
    "\n",
    "#print(cif)\n",
    "#print(structure)"
   ]
  },
  {
   "cell_type": "markdown",
   "metadata": {},
   "source": [
    "### Première symétrie - rotation d'ordre 2\n",
    "\n",
    "L'opérateur de symétrie #7 est une rotation d'ordre 2 autour de l'axe [1 1 0]. Il projette un élement situé en (x, y, z) aux coordonnées (y, x, -z). Le déterminant de l'opérateur vaut 1.\n",
    "\n",
    "\\begin{equation}\n",
    "    \\begin{pmatrix} 0 & 1 & 0 \\\\ 1 & 0 & 0 \\\\ 0 & 0& -1\\end{pmatrix}\n",
    "    \\begin{pmatrix} x \\\\ y \\\\ z\\end{pmatrix}\n",
    "    =\n",
    "    \\begin{pmatrix} y \\\\ x \\\\ -z\\end{pmatrix}\n",
    "\\end{equation}\n"
   ]
  },
  {
   "cell_type": "code",
   "execution_count": 3,
   "metadata": {
    "ExecuteTime": {
     "end_time": "2021-03-07T17:33:28.784378Z",
     "start_time": "2021-03-07T17:33:28.600827Z"
    }
   },
   "outputs": [
    {
     "data": {
      "application/vnd.jupyter.widget-view+json": {
       "model_id": "",
       "version_major": 2,
       "version_minor": 0
      },
      "text/plain": [
       "JsmolView(layout=Layout(align_self='stretch', height='400px'))"
      ]
     },
     "metadata": {},
     "output_type": "display_data"
    }
   ],
   "source": [
    "view1 = quick_view(structure)\n",
    "display(view1)\n",
    "\n",
    "\n",
    "view1.script(\"select all; color atoms TRANSLUCENT 0.75\")#; label on\")"
   ]
  },
  {
   "cell_type": "code",
   "execution_count": 4,
   "metadata": {
    "ExecuteTime": {
     "end_time": "2021-03-07T17:31:28.984864Z",
     "start_time": "2021-03-07T17:31:28.982037Z"
    }
   },
   "outputs": [
    {
     "name": "stdout",
     "output_type": "stream",
     "text": [
      "Atome choisi: La (#2)\n",
      "Opération de symétrie choisie: (y, x, -z) (#7)\n",
      "Position de départ:  [0.3,0.7,0.2]\n",
      "Position d'arrivée': [0.7,0.3,-0.2]\n"
     ]
    }
   ],
   "source": [
    "symopn = 7\n",
    "symop_xyz = sym[symopn-1].as_xyz_string()\n",
    "\n",
    "La1_depart = [1/3,2/3,1/6]\n",
    "La1_arrivee = sym[symopn-1].operate(La1_depart)\n",
    "\n",
    "\n",
    "print(\"Atome choisi: La (#2)\")\n",
    "print(\"Opération de symétrie choisie: (%s) (#7)\" %symop_xyz)\n",
    "#print(\"Matrice de l'opérateur:\\n\", sym[symopn-1].rotation_matrix)\n",
    "print(\"Position de départ:  [%.1f,%.1f,%.1f]\" %(La1_depart[0],La1_depart[1],La1_depart[2]) )\n",
    "print(\"Position d'arrivée': [%.1f,%.1f,%.1f]\" %(La1_arrivee[0],La1_arrivee[1],La1_arrivee[2]) )\n",
    "\n",
    "view1.script(\"moveto 1 1 1 1 90; zoom 150\")\n",
    "view1.script(\"select {atomno=2}; color atoms OPAQUE\")\n",
    "view1.script(\"select {atomno=5}; color atoms OPAQUE\")\n",
    "view1.script(\"draw symop %i {atomno=2}\" %symopn)"
   ]
  },
  {
   "cell_type": "code",
   "execution_count": 5,
   "metadata": {},
   "outputs": [],
   "source": [
    "view1.close()"
   ]
  },
  {
   "cell_type": "markdown",
   "metadata": {},
   "source": [
    "### Deuxième symétrie - plan miroir\n",
    "L'opérateur de symétrie #8 est une réflexion par rapport à un plan miroir perpendiculaire au vecteur [1 1 0]. Il projette un élement situé en (x, y, z) aux coordonnées (-y, -x, z). Le déterminant de l'opérateur vaut -1.\n",
    "\n",
    "\\begin{equation}\n",
    "    \\begin{pmatrix} 0 & -1 & 0 \\\\ -1 & 0 & 0 \\\\ 0 & 0& 1\\end{pmatrix}\n",
    "    \\begin{pmatrix} x \\\\ y \\\\ z\\end{pmatrix}\n",
    "    =\n",
    "    \\begin{pmatrix} -y \\\\ -x \\\\ z\\end{pmatrix}\n",
    "\\end{equation}\n"
   ]
  },
  {
   "cell_type": "code",
   "execution_count": 6,
   "metadata": {
    "ExecuteTime": {
     "end_time": "2021-03-07T17:33:28.784378Z",
     "start_time": "2021-03-07T17:33:28.600827Z"
    },
    "scrolled": false
   },
   "outputs": [
    {
     "data": {
      "application/vnd.jupyter.widget-view+json": {
       "model_id": "",
       "version_major": 2,
       "version_minor": 0
      },
      "text/plain": [
       "JsmolView(layout=Layout(align_self='stretch', height='400px'))"
      ]
     },
     "metadata": {},
     "output_type": "display_data"
    }
   ],
   "source": [
    "view2 = quick_view(structure)\n",
    "display(view2)\n",
    "\n",
    "\n",
    "view2.script(\"select all; color atoms TRANSLUCENT 0.75\")#; label on\")"
   ]
  },
  {
   "cell_type": "code",
   "execution_count": 7,
   "metadata": {
    "ExecuteTime": {
     "end_time": "2021-03-07T17:31:28.984864Z",
     "start_time": "2021-03-07T17:31:28.982037Z"
    }
   },
   "outputs": [
    {
     "name": "stdout",
     "output_type": "stream",
     "text": [
      "Atome choisi: S (#12)\n",
      "Opération de symétrie choisie: (-y, -x, z) (#8)\n",
      "Position de départ:  [0.0,1.0,0.23]\n",
      "Position d'arrivée': [-1.0,0.0,0.23]\n"
     ]
    }
   ],
   "source": [
    "symopn = 8\n",
    "symop_xyz = sym[symopn-1].as_xyz_string()\n",
    "\n",
    "S2_depart = [0.0,1.0,0.23247]\n",
    "S2_arrivee = sym[symopn-1].operate(S2_depart)\n",
    "\n",
    "print(\"Atome choisi: S (#12)\")\n",
    "print(\"Opération de symétrie choisie: (%s) (#8)\" %symop_xyz)\n",
    "#print(\"Matrice de l'opérateur:\\n\", sym[symopn-1].rotation_matrix)\n",
    "print(\"Position de départ:  [%.1f,%.1f,%.2f]\" %(S2_depart[0],S2_depart[1],S2_depart[2]) )\n",
    "print(\"Position d'arrivée': [%.1f,%.1f,%.2f]\" %(S2_arrivee[0],S2_arrivee[1],S2_arrivee[2]) )\n",
    "\n",
    "view2.script(\"moveto 1 -5 20 -2 20; zoom 250\")\n",
    "view2.script(\"select {atomno=12}; color atoms OPAQUE\")\n",
    "view2.script(\"select {atomno=3}; color atoms OPAQUE\")\n",
    "view2.script(\"draw symop %i {atomno=12}\" %symopn)"
   ]
  },
  {
   "cell_type": "code",
   "execution_count": 8,
   "metadata": {},
   "outputs": [],
   "source": [
    "view2.close()"
   ]
  },
  {
   "cell_type": "markdown",
   "metadata": {},
   "source": [
    "### Troisième symétrie - rotoinversion\n",
    "L'opérateur de symétrie #4 est une roto-inversion d'ordre 3. Elle consiste d'abord en une inversion par rapport au centre de coordonnées (0,0,0) suivi d'une rotation d'ordre 3. L'opérateur projette un élement situé en (x, y, z) aux coordonnées (y, -x+y, -z). Le déterminant de l'opérateur vaut -1.\n",
    "\n",
    "\\begin{equation}\n",
    "    \\begin{pmatrix} 0 & 1 & 0 \\\\ -1 & 1 & 0 \\\\ 0 & 0& -1\\end{pmatrix}\n",
    "    \\begin{pmatrix} x \\\\ y \\\\ z\\end{pmatrix}\n",
    "    =\n",
    "    \\begin{pmatrix} y \\\\ -x+y \\\\ -z\\end{pmatrix}\n",
    "\\end{equation}\n"
   ]
  },
  {
   "cell_type": "code",
   "execution_count": 9,
   "metadata": {
    "ExecuteTime": {
     "end_time": "2021-03-07T17:33:28.784378Z",
     "start_time": "2021-03-07T17:33:28.600827Z"
    },
    "scrolled": false
   },
   "outputs": [
    {
     "data": {
      "application/vnd.jupyter.widget-view+json": {
       "model_id": "",
       "version_major": 2,
       "version_minor": 0
      },
      "text/plain": [
       "JsmolView(layout=Layout(align_self='stretch', height='400px'))"
      ]
     },
     "metadata": {},
     "output_type": "display_data"
    }
   ],
   "source": [
    "view3 = quick_view(structure)\n",
    "display(view3)\n",
    "\n",
    "\n",
    "view3.script(\"select all; color atoms TRANSLUCENT 0.75\")#; label on\")"
   ]
  },
  {
   "cell_type": "code",
   "execution_count": 10,
   "metadata": {
    "ExecuteTime": {
     "end_time": "2021-03-07T17:31:28.984864Z",
     "start_time": "2021-03-07T17:31:28.982037Z"
    }
   },
   "outputs": [
    {
     "name": "stdout",
     "output_type": "stream",
     "text": [
      "Atome choisi: Rb (#11)\n",
      "Opération de symétrie choisie: (y, -x+y, -z) (#4)\n",
      "Position de départ:  [0.0,1.0,0.00]\n",
      "Position d'arrivée': [1.0,1.0,0.00]\n"
     ]
    }
   ],
   "source": [
    "symopn = 4  #3bar axis inversion\n",
    "symop_xyz = sym[symopn-1].as_xyz_string()\n",
    "\n",
    "Rb_depart = [0.0,1.0,0.0]\n",
    "Rb_arrivee = sym[symopn-1].operate(Rb_depart)\n",
    "\n",
    "print(\"Atome choisi: Rb (#11)\")\n",
    "print(\"Opération de symétrie choisie: (%s) (#4)\" %symop_xyz)\n",
    "#print(\"Matrice de l'opérateur:\\n\", sym[symopn-1].rotation_matrix)\n",
    "print(\"Position de départ:  [%.1f,%.1f,%.2f]\" %(Rb_depart[0],Rb_depart[1],Rb_depart[2]) )\n",
    "print(\"Position d'arrivée': [%.1f,%.1f,%.2f]\" %(Rb_arrivee[0],Rb_arrivee[1],Rb_arrivee[2]) )\n",
    "\n",
    "view3.script(\"moveto 1 0 1 0 200; zoom 250\")\n",
    "view3.script(\"select {atomno=11}; color atoms OPAQUE\")\n",
    "view3.script(\"select {atomno=7}; color atoms OPAQUE\")\n",
    "view3.script(\"draw symop %i {atomno=11}\" %symopn)"
   ]
  },
  {
   "cell_type": "code",
   "execution_count": 11,
   "metadata": {},
   "outputs": [],
   "source": [
    "view3.close()"
   ]
  }
 ],
 "metadata": {
  "kernelspec": {
   "display_name": "Python 3",
   "language": "python",
   "name": "python3"
  },
  "language_info": {
   "codemirror_mode": {
    "name": "ipython",
    "version": 3
   },
   "file_extension": ".py",
   "mimetype": "text/x-python",
   "name": "python",
   "nbconvert_exporter": "python",
   "pygments_lexer": "ipython3",
   "version": "3.6.8"
  }
 },
 "nbformat": 4,
 "nbformat_minor": 4
}
